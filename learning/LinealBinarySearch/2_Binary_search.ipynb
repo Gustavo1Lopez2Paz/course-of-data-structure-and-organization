{
 "cells": [
  {
   "cell_type": "markdown",
   "id": "f9fb390b-ddd6-411b-af65-8d3ed93b4e92",
   "metadata": {},
   "source": [
    "# 2. Búsqueda binaria\n",
    "\n",
    "Con un conjunto de datos ordenado, podemos aprovechar el orden para realizar una búsqueda que es más eficiente que ir elemento por elemento.\n",
    "\n",
    "La búsqueda binaria requiere un conjunto de datos ordenados. Luego, realizamos los siguientes pasos:\n",
    "\n",
    "- Verificamos el valor medio del conjunto de datos.\n",
    "    - Si este valor coincide con nuestro objetivo, podemos devolver el índice.\n",
    "- Si el valor medio es menor que nuestro objetivo.\n",
    "    - Comenzamos en el paso 1 usando la mitad derecha de la lista.\n",
    "- Si el valor medio es mayor que nuestro objetivo.\n",
    "    - Comenzamos en el paso 1 usando la mitad izquierda de la lista.\n",
    "\n",
    "Eventualmente nos quedamos sin valores en la lista o encontramos el valor objetivo."
   ]
  },
  {
   "cell_type": "markdown",
   "id": "40916757-45d8-4413-ac44-32fffd82ae68",
   "metadata": {},
   "source": [
    "## 2.1 Complejidad temporal de la búsqueda binaria\n",
    "\n",
    "En cada iteración, cortamos la lista a la mitad. La complejidad temporal es $\\mathcal{O}(log N)$.\n",
    "\n",
    "Una lista ordenada de 64 elementos requerirá como máximo $\\log_2(64) = 6 $ comparaciones.\n",
    "\n",
    "\n",
    "<img src=\"Binary_search.png\"  width=\"500\" >\n"
   ]
  },
  {
   "cell_type": "markdown",
   "id": "e42584c9-2f29-467a-a8a2-05f774cc9235",
   "metadata": {},
   "source": [
    "## 2.1 Binary search de forma iterativa.\n",
    "\n",
    "1. Define `binary_search()` ([Abrir binary_search_sandbox.py](binary_search.py)) con `sorted_list` y `target` como parametros.\n",
    "2. Inicializa `left_pointer` a cero y `right_pointer` igual a la longitud de `sorted_list`.\n",
    "3. Crea una funcion `while` que verifique que `left_pointer` sea menor a `right_pointer` y dentro:\n",
    "    1. Calcula el indice medio `mid_idx` de `sorted_list` y el valor medio `mid_val` de `sorted_list`.\n",
    "    2. Utiliza condicionales para verificar cualquiera de los siguientes 3 casos:\n",
    "        1. Si  `mid_val` es igual a  `target` entonces regresa `mid_idx`.\n",
    "        2. Si `target` es menor a `mid_val` entonces actualiza `right_pointer` igual a `mid_idx`.\n",
    "        3. Si `target` es mayor que `mid_val` entonces actualiza `left_pointer` igual a `mid_idx + 1`.\n",
    "4. Fuera del ciclo `while` regtresa `\"valor no en la lista\"` en caso de que `target` no este en la lista.\n",
    "\n",
    "\n",
    "Despues de completar las actividades de arriba debes verificar tu avance corriendo el test correspodiente ejecutando la siguiente linea de codigo en una celda de codigo.\n",
    "\n",
    "`!python3 -m unittest Test_2_binary_search.py`"
   ]
  },
  {
   "cell_type": "code",
   "execution_count": 1,
   "id": "b6bfdd6f",
   "metadata": {},
   "outputs": [
    {
     "name": "stdout",
     "output_type": "stream",
     "text": [
      "The file start_from.txt was not found.\n",
      "Running from students' code\n",
      ".......\n",
      "----------------------------------------------------------------------\n",
      "Ran 7 tests in 0.000s\n",
      "\n",
      "OK\n"
     ]
    }
   ],
   "source": [
    "!python3 -m unittest Test_2_binary_search.py"
   ]
  },
  {
   "cell_type": "markdown",
   "id": "c87593c6-f7bd-4bd0-9275-2e459845c664",
   "metadata": {},
   "source": [
    "# 3. Problema de logica: balas de cañon\n",
    "\n",
    "Tienes 9 balas de cañón, y una de ellas es diferente (puede ser más pesada o más ligera que las demás). Tienes una balanza de dos platos y el objetivo es identificar cuál es la bala diferente utilizando la menor cantidad de pesadas posible.\n",
    "\n",
    "1. Codifica `find_ball()` el cual implemente el algoritmo que encuentre cual bala es la diferente he imprima el numero de \"pesadas\" que utilice.\n",
    "2. Con tus conociminetos de matematicas (😂😂) encuentra una ecuacion que prediga el numero de pesadas dado un numero de balas $N$. Escribe la eacuacion en Latex y explica tu razonamiento."
   ]
  },
  {
   "cell_type": "code",
   "execution_count": 2,
   "id": "d4ac06eb",
   "metadata": {},
   "outputs": [
    {
     "name": "stdout",
     "output_type": "stream",
     "text": [
      "[1, 1, 0, 1, 1, 1, 1, 1, 1]\n",
      "La bola 2 es diferente, se pesaron 4 veces.\n"
     ]
    }
   ],
   "source": [
    "def find_different_ball(ball_weights):\n",
    "    weigh_count = 0\n",
    "    group_a = ball_weights[:3]\n",
    "    group_b = ball_weights[3:6]\n",
    "    group_c = ball_weights[6:]\n",
    "\n",
    "    weight_a = sum(group_a)\n",
    "    weight_b = sum(group_b)\n",
    "    weight_c = sum(group_c)\n",
    "\n",
    "    standard_weight = None\n",
    "    search_start = 0\n",
    "    search_end = len(ball_weights) - 1\n",
    "\n",
    "    # Determinar cuál grupo es el estándar\n",
    "    if weight_a == weight_b:\n",
    "        weigh_count += 1\n",
    "        search_start = 6  # Comienza a buscar en el tercer grupo\n",
    "        search_end = 8\n",
    "        standard_weight = group_a[0]\n",
    "    elif weight_a == weight_c:\n",
    "        weigh_count += 1\n",
    "        search_start = 3  # Comienza a buscar en el segundo grupo\n",
    "        search_end = 5\n",
    "        standard_weight = group_a[0]\n",
    "    else:\n",
    "        weigh_count += 1\n",
    "        search_start = 0  # Comienza a buscar en el primer grupo\n",
    "        search_end = 2\n",
    "        standard_weight = group_b[0]\n",
    "\n",
    "    different_ball_index = None\n",
    "\n",
    "    # Buscar la bola diferente\n",
    "    for i in range(search_start, search_end + 1):\n",
    "        weigh_count += 1\n",
    "        if ball_weights[i] != standard_weight:\n",
    "            different_ball_index = i\n",
    "            break  \n",
    "\n",
    "    return [different_ball_index, weigh_count]\n",
    "\n",
    "# Prueba\n",
    "ball_weights = [1, 1, 0, 1, 1, 1, 1, 1, 1] \n",
    "print(ball_weights)\n",
    "result = find_different_ball(ball_weights)\n",
    "print(f\"La bola {result[0]} es diferente, se pesaron {result[1]} veces.\")"
   ]
  },
  {
   "cell_type": "markdown",
   "id": "0d68a2ff",
   "metadata": {},
   "source": [
    "## Análisis\n",
    "\n",
    "En el peor de los casos, el número total de pesadas necesarias para identificar la bola diferente en un conjunto de tres esferas es no solo una cuestión de dividir las balas en tercios, sino también de realizar comparaciones adicionales en la última iteración. Este proceso puede requerir hasta \\(3\\) comparaciones adicionales para determinar la bola distinta. Por lo tanto, el número de pesadas en el peor de los casos se puede aproximar mediante la siguiente fórmula:\n",
    "\n",
    "$\\text{pesadas} = \\log_3(n) + \\frac{n}{3}$\n",
    "\n",
    "donde:\n",
    "\n",
    "- **Primer término** $\\log_3(n)$: Calcula las pesadas necesarias para dividir las balas en el último grupo pequeño.\n",
    "- **Segundo término** $\\frac{n}{3}$: Representa el número máximo de comparaciones requeridas en la última iteración.\n",
    "\n",
    "### Nueva Observación\n",
    "\n",
    "La fórmula para el número de pesadas en el peor de los casos, al considerar divisiones recursivas, se podría expresar de la siguiente manera:\n",
    "\n",
    "$ W = \\left(\\log_3(n) + \\frac{n}{3}\\right) \\rightarrow \\left( \\frac{3^{k+1} - 1}{2} \\right) $\n",
    "\n",
    "Esto implica que el número de pesadas en el peor de los casos se puede representar como:\n",
    "\n",
    "$ \\text{pesadas} = O(\\log_3(n)) $"
   ]
  }
 ],
 "metadata": {
  "kernelspec": {
   "display_name": "Python 3 (ipykernel)",
   "language": "python",
   "name": "python3"
  },
  "language_info": {
   "codemirror_mode": {
    "name": "ipython",
    "version": 3
   },
   "file_extension": ".py",
   "mimetype": "text/x-python",
   "name": "python",
   "nbconvert_exporter": "python",
   "pygments_lexer": "ipython3",
   "version": "3.12.0"
  }
 },
 "nbformat": 4,
 "nbformat_minor": 5
}
