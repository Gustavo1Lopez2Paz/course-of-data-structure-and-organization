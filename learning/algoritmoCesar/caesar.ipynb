{
 "cells": [
  {
   "cell_type": "markdown",
   "metadata": {},
   "source": [
    "# Algoritmo del cesar"
   ]
  },
  {
   "cell_type": "code",
   "execution_count": 5,
   "metadata": {},
   "outputs": [
    {
     "name": "stdout",
     "output_type": "stream",
     "text": [
      "jqncbcbñk\n"
     ]
    }
   ],
   "source": [
    "alfabeto = ['a', 'b', 'c', 'd', 'e', 'f', 'g', 'h', 'i', 'j', 'k', 'l', 'm','n', 'ñ','o', 'p', 'q', 'r', 's', 't', 'u', 'v', 'w', 'x', 'y', 'z', ' ']\n",
    "cifrado = []\n",
    "texto = \"hola a mi\"\n",
    "texto_cifrado = \"\"\n",
    "desplazamiento = 2\n",
    "\n",
    "texto.lower()\n",
    "\n",
    "for caracter in texto:\n",
    "    if caracter in alfabeto:\n",
    "        indice_original = alfabeto.index(caracter)\n",
    "        nuevo_indice = (indice_original + desplazamiento) % len(alfabeto)\n",
    "        cifrado.append(alfabeto[nuevo_indice])\n",
    "    else:\n",
    "        cifrado.append(caracter)\n",
    "\n",
    "texto_cifrado = texto_cifrado.join(cifrado)\n",
    "print(texto_cifrado)"
   ]
  },
  {
   "cell_type": "markdown",
   "metadata": {},
   "source": [
    "# Algoritmo del cesar con nodos"
   ]
  },
  {
   "cell_type": "code",
   "execution_count": 10,
   "metadata": {},
   "outputs": [],
   "source": [
    "class Node:\n",
    "    def __init__(self, value, next_node = None, prev_node = None):\n",
    "        self.value = value\n",
    "        self.next_node = next_node\n",
    "        self.prev_node = prev_node\n",
    "\n",
    "    def get_value(self):\n",
    "        return self.value\n",
    "\n",
    "    def get_next_node(self):\n",
    "        return self.next_node\n",
    "    \n",
    "    def get_prev_node(self):\n",
    "        return self.prev_node\n",
    "    \n",
    "    def set_next_node(self, next_node):\n",
    "        if next_node != None and not isinstance(next_node, dict) and not isinstance(next_node, Node):\n",
    "            raise TypeError(\"next_node must be of type Node, dict, or None\")\n",
    "        else:\n",
    "            self.next_node = next_node\n",
    "\n",
    "    def set_prev_node(self, prev_node):\n",
    "        if prev_node != None and not isinstance(prev_node, dict) and not isinstance(prev_node, Node):\n",
    "            raise TypeError(\"next_node must be of type Node, dict, or None\")\n",
    "        else:\n",
    "            self.prev_node = prev_node\n"
   ]
  },
  {
   "cell_type": "code",
   "execution_count": 12,
   "metadata": {},
   "outputs": [],
   "source": [
    "class DoublyLinkedList:\n",
    "    def __init__(self, head_node = None, tail_node = None):\n",
    "        self.head_node = head_node  \n",
    "        self.tail_node = tail_node\n",
    "\n",
    "    def add_to_head(self, new_value):\n",
    "        new_head = Node(new_value)\n",
    "        current_head = self.head_node  \n",
    "\n",
    "        if current_head:\n",
    "            current_head.set_prev_node(new_head)  \n",
    "            new_head.set_next_node(current_head)   \n",
    "\n",
    "        self.head_node = new_head\n",
    "\n",
    "        if self.tail_node is None:\n",
    "            self.tail_node = new_head\n",
    "\n",
    "    def add_to_tail(self, new_value):\n",
    "        new_tail = Node(new_value)\n",
    "        current_tail = self.tail_node\n",
    "\n",
    "        if current_tail:\n",
    "            current_tail.set_next_node(new_tail)\n",
    "            new_tail.set_prev_node(current_tail)\n",
    "\n",
    "        self.tail_node = new_tail \n",
    "\n",
    "        if self.head_node is None:\n",
    "            self.head_node = new_tail\n",
    "\n",
    "    def remove_tail(self):\n",
    "        removed_tail = self.tail_node\n",
    "\n",
    "        if removed_tail is None:\n",
    "            return None\n",
    "            \n",
    "        self.tail_node = removed_tail.get_prev_node()\n",
    "        \n",
    "        if self.tail_node is not None:\n",
    "            self.tail_node.set_next_node(None)\n",
    "        else:\n",
    "            self.head_node = None\n",
    "\n",
    "        return removed_tail.get_value()\n",
    "\n",
    "    def remove_head(self):\n",
    "        removed_head = self.head_node\n",
    "\n",
    "        if removed_head is None:\n",
    "            return None\n",
    "    \n",
    "        self.head_node = removed_head.get_next_node()\n",
    "\n",
    "        if self.head_node is not None:\n",
    "            self.head_node.set_prev_node(None)\n",
    "        else:\n",
    "            self.tail_node = None \n",
    "\n",
    "        return removed_head.get_value()\n",
    "\n",
    "    def remove_by_value(self, value_to_remove):\n",
    "        node_to_remove = None\n",
    "        current_node = self.head_node\n",
    "        while current_node is not None:\n",
    "            if current_node is value_to_remove:\n",
    "                node_to_remove = current_node\n",
    "                break\n",
    "\n",
    "            current_node.get_next_node()\n",
    "        if node_to_remove is None:\n",
    "            return None\n",
    "        \n",
    "        if node_to_remove == self.head_node:\n",
    "            self.remove_head()\n",
    "        elif node_to_remove == self.tail_node:\n",
    "            self.remove_tail()\n",
    "        else:\n",
    "            next_node = node_to_remove.get_next_node()\n",
    "            prev_node = node_to_remove.get_prev_node()\n",
    "            next_node.set_prev_node(prev_node)\n",
    "            prev_node.set_next_node(next_node)\n",
    "\n",
    "        return node_to_remove\n"
   ]
  },
  {
   "cell_type": "code",
   "execution_count": null,
   "metadata": {},
   "outputs": [],
   "source": []
  }
 ],
 "metadata": {
  "kernelspec": {
   "display_name": "Python 3",
   "language": "python",
   "name": "python3"
  },
  "language_info": {
   "codemirror_mode": {
    "name": "ipython",
    "version": 3
   },
   "file_extension": ".py",
   "mimetype": "text/x-python",
   "name": "python",
   "nbconvert_exporter": "python",
   "pygments_lexer": "ipython3",
   "version": "3.12.0"
  }
 },
 "nbformat": 4,
 "nbformat_minor": 2
}
