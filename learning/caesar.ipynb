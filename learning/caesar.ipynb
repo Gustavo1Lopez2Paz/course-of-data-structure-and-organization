{
 "cells": [
  {
   "cell_type": "code",
   "execution_count": 1,
   "id": "aa65d9f7-24f3-4708-bfff-183854b8c426",
   "metadata": {},
   "outputs": [],
   "source": [
    "def cifrado_cesar(texto, n):\n",
    "    alfabeto = ['a', 'b', 'c', 'd', 'e', 'f', 'g', 'h', 'i', 'j', 'k', 'l', 'm','n', 'ñ','o', 'p', 'q', 'r', 's', 't', 'u', 'v', 'w', 'x', 'y', 'z', ' ']\n",
    "    texto_cifrado = [] \n",
    "    for caracter in texto:\n",
    "        if caracter in alfabeto:\n",
    "            indice_actual = alfabeto.index(caracter) \n",
    "            nuevo_indice = (indice_actual + n) % len(alfabeto)\n",
    "            texto_cifrado.append(alfabeto[nuevo_indice])\n",
    "        else:\n",
    "            texto_cifrado.append(caracter)\n",
    "    \n",
    "    return texto_cifrado\n",
    "\n"
   ]
  },
  {
   "cell_type": "code",
   "execution_count": 2,
   "id": "0c163512-e88a-4312-9430-c382a5d7e65e",
   "metadata": {},
   "outputs": [
    {
     "name": "stdout",
     "output_type": "stream",
     "text": [
      "Cadena cifrada:  ['j', 'q', 'n', 'c', 'b', 'x', 'c', 'n', 'g']\n"
     ]
    }
   ],
   "source": [
    "texto = \"hola vale\"\n",
    "n = 2\n",
    "resultado = cifrado_cesar(texto, n)\n",
    "print(\"Cadena cifrada: \" , resultado)"
   ]
  },
  {
   "cell_type": "code",
   "execution_count": 3,
   "id": "54018650-d5a5-4829-9813-52075399e38d",
   "metadata": {},
   "outputs": [
    {
     "name": "stdout",
     "output_type": "stream",
     "text": [
      "cde\n"
     ]
    }
   ],
   "source": [
    "class Node:\n",
    "    def __init__(self, value):\n",
    "        self.value = value\n",
    "        self.next_node = None\n",
    "        self.prev_node = None\n",
    "\n",
    "    def get_value(self):\n",
    "        return self.value\n",
    "\n",
    "    def get_next_node(self):\n",
    "        return self.next_node\n",
    "\n",
    "    def set_next_node(self, node):\n",
    "        self.next_node = node\n",
    "\n",
    "    def get_prev_node(self):\n",
    "        return self.prev_node\n",
    "\n",
    "    def set_prev_node(self, node):\n",
    "        self.prev_node = node\n",
    "\n",
    "\n",
    "class DoublyLinkedList:\n",
    "    def __init__(self, alphabet):\n",
    "        self.head_node = None\n",
    "        self.tail_node = None\n",
    "        self.alphabet = alphabet\n",
    "        self.create_alphabet_linked_list()\n",
    "\n",
    "    def create_alphabet_linked_list(self):\n",
    "        for letter in self.alphabet:\n",
    "            self.add_to_tail(letter)\n",
    "\n",
    "        # Make it circular\n",
    "        self.tail_node.set_next_node(self.head_node)\n",
    "        self.head_node.set_prev_node(self.tail_node)\n",
    "\n",
    "    def add_to_tail(self, new_value):\n",
    "        new_tail = Node(new_value)\n",
    "        current_tail = self.tail_node\n",
    "\n",
    "        if current_tail is not None:\n",
    "            current_tail.set_next_node(new_tail)\n",
    "            new_tail.set_prev_node(current_tail)\n",
    "        else:\n",
    "            self.head_node = new_tail\n",
    "\n",
    "        self.tail_node = new_tail\n",
    "\n",
    "    def move_head_n_positions(self, n):\n",
    "        for _ in range(n):\n",
    "            self.head_node = self.head_node.get_next_node()\n",
    "\n",
    "    def get_value_from_message(self, message, shift=-2):\n",
    "        result = []\n",
    "        for char in message:\n",
    "            current_node = self.head_node\n",
    "\n",
    "            # Find the node for the current character\n",
    "            while current_node.get_value() != char:\n",
    "                current_node = current_node.get_next_node()\n",
    "\n",
    "            # Move forward by 'shift' positions to get the new character\n",
    "            for _ in range(shift):\n",
    "                current_node = current_node.get_next_node()\n",
    "\n",
    "            result.append(current_node.get_value())\n",
    "\n",
    "        return ''.join(result)\n",
    "\n",
    "\n",
    "# Ejemplo de uso:\n",
    "\n",
    "alphabet = ['a', 'b', 'c', 'd', 'e', 'f', 'g', 'h', 'i', 'j', 'k', 'l', 'm', 'n', 'ñ', 'o', 'p', 'q', 'r', 's', 't', 'u', 'v', 'w', 'x', 'y', 'z', ' ']\n",
    "dll = DoublyLinkedList(alphabet)\n",
    "\n",
    "message = \"cde\"\n",
    "shifted_message = dll.get_value_from_message(message)\n",
    "print(shifted_message)  # Esto imprimirá \"cde\"\n"
   ]
  },
  {
   "cell_type": "code",
   "execution_count": 4,
   "id": "d3a05a0a-dcc7-46fc-a64d-0f81d62da4b9",
   "metadata": {},
   "outputs": [],
   "source": [
    "class Node:\n",
    "    def __init__(self, value):\n",
    "        self.value = value\n",
    "        self.next_node = None\n",
    "        self.prev_node = None\n",
    "\n",
    "    def get_value(self):\n",
    "        return self.value\n",
    "\n",
    "    def get_next_node(self):\n",
    "        return self.next_node\n",
    "\n",
    "    def set_next_node(self, next_node):\n",
    "        self.next_node = next_node\n",
    "\n",
    "    def get_prev_node(self):\n",
    "        return self.prev_node\n",
    "\n",
    "    def set_prev_node(self, prev_node):\n",
    "        self.prev_node = prev_node\n",
    "\n",
    "\n",
    "class DoublyLinkedList:\n",
    "    def __init__(self):\n",
    "        self.head_node = None\n",
    "        self.tail_node = None\n",
    "\n",
    "    def add_to_tail(self, value):\n",
    "        new_node = Node(value)\n",
    "        if self.tail_node is None:\n",
    "            self.head_node = new_node\n",
    "            self.tail_node = new_node\n",
    "        else:\n",
    "            self.tail_node.set_next_node(new_node)\n",
    "            new_node.set_prev_node(self.tail_node)\n",
    "            self.tail_node = new_node\n",
    "\n",
    "    def find_node(self, value):\n",
    "        \"\"\"Busca un nodo con un valor específico.\"\"\"\n",
    "        current = self.head_node\n",
    "        while current:\n",
    "            if current.get_value() == value:\n",
    "                return current\n",
    "            current = current.get_next_node()\n",
    "        return None\n"
   ]
  },
  {
   "cell_type": "code",
   "execution_count": 13,
   "id": "877b1fa0-e364-4073-99e6-ff5472d32a50",
   "metadata": {},
   "outputs": [],
   "source": [
    "A = ['a', 'b', 'c', 'd', 'e', 'f', 'g', 'h', 'i', 'j', 'k', 'l', 'm','n', 'ñ','o', 'p', 'q', 'r', 's', 't', 'u', 'v', 'w', 'x', 'y', 'z', ' ']\n",
    "\n",
    "# Crear la lista doblemente enlazada\n",
    "alphabet_list = DoublyLinkedList()\n",
    "for letter in A:\n",
    "    alphabet_list.add_to_tail(letter)\n"
   ]
  },
  {
   "cell_type": "code",
   "execution_count": 6,
   "id": "0b1f5423-c5ee-47e4-93f3-c3954be38905",
   "metadata": {},
   "outputs": [],
   "source": [
    "def cifrar(mensaje, llave, alphabet_list):\n",
    "    \"\"\"Cifra el mensaje recorriendo la lista enlazada hacia adelante.\"\"\"\n",
    "    cifrado = []\n",
    "    for char in mensaje:\n",
    "        node = alphabet_list.find_node(char)\n",
    "        # Avanzar 'llave' posiciones hacia adelante\n",
    "        for _ in range(llave):\n",
    "            node = node.get_next_node() or alphabet_list.head_node  # Si llega al final, vuelve al inicio\n",
    "        cifrado.append(node.get_value())\n",
    "    return ''.join(cifrado)\n",
    "\n",
    "\n",
    "def descifrar(mensaje_cifrado, llave, alphabet_list):\n",
    "    \"\"\"Descifra el mensaje recorriendo la lista enlazada hacia atrás.\"\"\"\n",
    "    descifrado = []\n",
    "    for char in mensaje_cifrado:\n",
    "        node = alphabet_list.find_node(char)\n",
    "        # Retroceder 'llave' posiciones hacia atrás\n",
    "        for _ in range(llave):\n",
    "            node = node.get_prev_node() or alphabet_list.tail_node  # Si llega al inicio, vuelve al final\n",
    "        descifrado.append(node.get_value())\n",
    "    return ''.join(descifrado)\n"
   ]
  },
  {
   "cell_type": "code",
   "execution_count": 12,
   "id": "648a552a-7576-4df1-af13-786f8350644d",
   "metadata": {},
   "outputs": [
    {
     "name": "stdout",
     "output_type": "stream",
     "text": [
      "Mensaje cifrado: cde\n",
      "Mensaje descifrado: abc\n"
     ]
    }
   ],
   "source": [
    "mensaje = \"abc\"\n",
    "llave = 2\n",
    "\n",
    "# Cifrar el mensaje\n",
    "mensaje_cifrado = cifrar(mensaje, llave, alphabet_list)\n",
    "print(f\"Mensaje cifrado: {mensaje_cifrado}\")\n",
    "\n",
    "# Descifrar el mensaje\n",
    "mensaje_descifrado = descifrar(mensaje_cifrado, llave, alphabet_list)\n",
    "print(f\"Mensaje descifrado: {mensaje_descifrado}\")\n"
   ]
  },
  {
   "cell_type": "code",
   "execution_count": 8,
   "id": "cc559aba-6f6f-4889-a334-fd3a2b9e2664",
   "metadata": {},
   "outputs": [
    {
     "name": "stdout",
     "output_type": "stream",
     "text": [
      "Mensaje cifrado: efa\n"
     ]
    }
   ],
   "source": [
    "mensaje = \"cde\"\n",
    "llave = 2\n",
    "\n",
    "# Cifrar el mensaje\n",
    "mensaje_cifrado = cifrar(mensaje, llave, alphabet_list)\n",
    "print(f\"Mensaje cifrado: {mensaje_cifrado}\")\n"
   ]
  },
  {
   "cell_type": "code",
   "execution_count": 9,
   "id": "9323f04f-0bed-4d61-bfe9-d5bf7ceeb0dc",
   "metadata": {},
   "outputs": [
    {
     "name": "stdout",
     "output_type": "stream",
     "text": [
      "Mensaje cifrado: abc\n"
     ]
    }
   ],
   "source": [
    "mensaje = \"efa\"\n",
    "llave = 2\n",
    "\n",
    "# Cifrar el mensaje\n",
    "mensaje_cifrado = cifrar(mensaje, llave, alphabet_list)\n",
    "print(f\"Mensaje cifrado: {mensaje_cifrado}\")\n"
   ]
  }
 ],
 "metadata": {
  "kernelspec": {
   "display_name": "Python 3 (ipykernel)",
   "language": "python",
   "name": "python3"
  },
  "language_info": {
   "codemirror_mode": {
    "name": "ipython",
    "version": 3
   },
   "file_extension": ".py",
   "mimetype": "text/x-python",
   "name": "python",
   "nbconvert_exporter": "python",
   "pygments_lexer": "ipython3",
   "version": "3.11.4"
  }
 },
 "nbformat": 4,
 "nbformat_minor": 5
}
